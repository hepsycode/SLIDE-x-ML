{
 "cells": [
  {
   "cell_type": "code",
   "execution_count": 1,
   "metadata": {},
   "outputs": [],
   "source": [
    "# Declarations\n",
    "import glob\n",
    "import json\n",
    "import os\n",
    "import numpy as np\n",
    "import pandas as pd\n",
    "\n",
    "from os.path import basename"
   ]
  },
  {
   "cell_type": "code",
   "execution_count": 2,
   "metadata": {},
   "outputs": [],
   "source": [
    "# DataFrame name json file\n",
    "nameFile = []\n",
    "pathFile = []\n",
    "rootFile = []\n",
    "\n",
    "path = os.getcwd()\n",
    "for root, dirs, files in os.walk(path):\n",
    "    for file in files:\n",
    "        if file.endswith(\".json\"):\n",
    "            nameFile.append(file)\n",
    "            pathFile.append(os.path.join(root, file))\n",
    "            rootFile.append(root)\n",
    "            \n",
    "nameFileS = pd.Series(nameFile)\n",
    "pathFileS = pd.Series(pathFile)\n",
    "rootFileS = pd.Series(rootFile)\n",
    "\n",
    "dfNF = pd.concat([nameFileS, pathFileS, rootFileS], axis=1)\n",
    "dfNF.columns = ['FILE_NAME', 'FILE_PATH', 'FILE_ROOT']"
   ]
  },
  {
   "cell_type": "code",
   "execution_count": 3,
   "metadata": {},
   "outputs": [],
   "source": [
    "# .json file loop\n",
    "df = pd.DataFrame(columns=['DEVICE','BOARD','FUNCTION','DATA_TYPE',\n",
    "                           'NUM_S','RANGE_S','NUM_SI','RANGE_SI',\n",
    "                           'NUM_ARR','RANGE_ARR'])\n",
    "\n",
    "listD = [\"Bambu\"] # Inserisci i dispositivi che vuoi analizzare\n",
    "listDT = [\"int8_t\"] # Inserisci i data type che vuoi analizzare\n",
    "\n",
    "for i in range(0, len(pathFile)):\n",
    "    pF = pathFile[i]\n",
    "\n",
    "    with open(pF, 'r') as jf:\n",
    "        data = jf.read()\n",
    "    obj = json.loads(data)\n",
    "\n",
    "    if os.name == 'nt':\n",
    "        spR = rootFile[i].split('\\\\')\n",
    "    else:\n",
    "        spR = rootFile[i].split('/')\n",
    "    function = spR[-1]\n",
    "    board = spR[-3]\n",
    "\n",
    "    #Device loop\n",
    "    deviceList = list(obj.keys())\n",
    "    deviceListR = []\n",
    "    for u in range(0, len(deviceList)):\n",
    "        if deviceList[u] in listD:\n",
    "            deviceListR.append(deviceList[u])\n",
    "    \n",
    "    for n in range(0, len(deviceListR)):\n",
    "        # Data_type loop\n",
    "        device = deviceListR[n]\n",
    "        dtarr = list(obj[deviceListR[n]].keys())\n",
    "        \n",
    "        dtarrR = []\n",
    "        for u in range(0, len(dtarr)):\n",
    "            if dtarr[u] in listDT:\n",
    "                dtarrR.append(dtarr[u])\n",
    "        \n",
    "        for j in range(0, len(dtarrR)):\n",
    "            dataype = dtarrR[j]\n",
    "            lsubNP = (list(obj[deviceListR[n]][dtarrR[j]].keys()))\n",
    "            lsubVP = (list(obj[deviceListR[n]][dtarrR[j]].values()))\n",
    "\n",
    "            # sublist dimension\n",
    "            ltot = len(lsubNP)\n",
    "\n",
    "            # how many array are present\n",
    "            na = 0\n",
    "            fl = 0\n",
    "            \n",
    "            ark = 0\n",
    "            \n",
    "            for k in range(0, ltot): \n",
    "                #print(function, fl)\n",
    "                if \"[\" in lsubNP[k]:\n",
    "                    na = na + 1\n",
    "                    if fl == 0:\n",
    "                        ark = k\n",
    "                        fl = 1\n",
    "\n",
    "            # how many scalar index are present\n",
    "            nsi = 0\n",
    "            for k in range(0, ltot):\n",
    "                flag = 0\n",
    "                if not \"[\" in lsubNP[k]:\n",
    "                    for keysl in lsubNP:\n",
    "                        if (lsubNP[k] in keysl) and (not lsubNP[k] is keysl) and (flag == 0):          \n",
    "                            flag = 1\n",
    "                            nsi = nsi + 1           \n",
    "\n",
    "            # how many scalar are present\n",
    "            ns = ltot - na - nsi\n",
    "\n",
    "            # check if is it negative\n",
    "            newstr = lsubVP[ark].replace(\"[\", \"\")\n",
    "            newstr = newstr.replace(\"]\", \"\")\n",
    "            newstr = newstr.split(\",\")[0]\n",
    "            num = float(newstr)\n",
    "            ranArr = 0\n",
    "            if num < 0:\n",
    "                ranArr = 1\n",
    "            else:\n",
    "                ranArr = 0\n",
    "\n",
    "            df = df.append({'DEVICE': device, 'BOARD': board, 'FUNCTION': function, 'DATA_TYPE': dataype,\n",
    "                            'NUM_S': ns, 'RANGE_S': 0,'NUM_SI': nsi,'RANGE_SI': 0,\n",
    "                            'NUM_ARR': na,'RANGE_ARR': ranArr}, \n",
    "                            ignore_index=True)"
   ]
  },
  {
   "cell_type": "code",
   "execution_count": null,
   "metadata": {},
   "outputs": [],
   "source": [
    "dfS = pd.read_csv(\"dfS.csv\", sep=';')\n",
    "dfSI = pd.read_csv(\"dfSI.csv\", sep=';')"
   ]
  },
  {
   "cell_type": "code",
   "execution_count": 4,
   "metadata": {},
   "outputs": [],
   "source": [
    "dfS = pd.read_csv(\"dfS_tot.csv\", sep=';')\n",
    "dfSI = pd.read_csv(\"dfSI_tot.csv\", sep=';')"
   ]
  },
  {
   "cell_type": "code",
   "execution_count": 5,
   "metadata": {},
   "outputs": [],
   "source": [
    "del dfS['Unnamed: 0']\n",
    "del dfSI['Unnamed: 0']"
   ]
  },
  {
   "cell_type": "code",
   "execution_count": 6,
   "metadata": {},
   "outputs": [],
   "source": [
    "columnsS = ['DEVICE','BOARD','FUNCTION','DATA_TYPE','RANGE_S']\n",
    "columnsSI = ['DEVICE','BOARD','FUNCTION','DATA_TYPE','RANGE_SI']\n",
    "dfS = dfS[columnsS]\n",
    "dfSI = dfSI[columnsSI]"
   ]
  },
  {
   "cell_type": "code",
   "execution_count": 7,
   "metadata": {},
   "outputs": [],
   "source": [
    "lent = len(dfS['RANGE_S'].tolist())\n",
    "for i in range(0, lent):\n",
    "    df.loc[(df['DEVICE'] == dfS['DEVICE'][i]) & \n",
    "           (df['BOARD'] == dfS['BOARD'][i]) &\n",
    "           (df['FUNCTION'] == dfS['FUNCTION'][i]) & \n",
    "           (df['DATA_TYPE'] == dfS['DATA_TYPE'][i]), 'RANGE_S'] = dfS['RANGE_S'][i]"
   ]
  },
  {
   "cell_type": "code",
   "execution_count": 8,
   "metadata": {},
   "outputs": [],
   "source": [
    "lent = len(dfSI['RANGE_SI'].tolist())\n",
    "for i in range(0, lent):\n",
    "    df.loc[(df['DEVICE'] == dfSI['DEVICE'][i]) & \n",
    "           (df['BOARD'] == dfSI['BOARD'][i]) & \n",
    "           (df['FUNCTION'] == dfSI['FUNCTION'][i]) & \n",
    "           (df['DATA_TYPE'] == dfSI['DATA_TYPE'][i]), 'RANGE_SI'] = dfSI['RANGE_SI'][i]"
   ]
  },
  {
   "cell_type": "code",
   "execution_count": 9,
   "metadata": {},
   "outputs": [],
   "source": [
    "df.to_csv(\"RangeValueClassification_tot.csv\", sep=';')"
   ]
  },
  {
   "cell_type": "code",
   "execution_count": null,
   "metadata": {},
   "outputs": [],
   "source": []
  }
 ],
 "metadata": {
  "kernelspec": {
   "display_name": "Python 3",
   "language": "python",
   "name": "python3"
  },
  "language_info": {
   "codemirror_mode": {
    "name": "ipython",
    "version": 3
   },
   "file_extension": ".py",
   "mimetype": "text/x-python",
   "name": "python",
   "nbconvert_exporter": "python",
   "pygments_lexer": "ipython3",
   "version": "3.6.8"
  }
 },
 "nbformat": 4,
 "nbformat_minor": 4
}
